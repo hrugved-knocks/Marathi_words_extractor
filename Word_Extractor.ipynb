{
 "cells": [
  {
   "cell_type": "markdown",
   "metadata": {},
   "source": [
    "## <font color=green> - Python3 tool to Extract Marathi words from PDF and Write them down in XLS sheet along with Frequency </font>"
   ]
  },
  {
   "cell_type": "markdown",
   "metadata": {},
   "source": [
    "***"
   ]
  },
  {
   "cell_type": "markdown",
   "metadata": {},
   "source": [
    "<font color=blue>*#First things first, Importing required Libraries* </font>"
   ]
  },
  {
   "cell_type": "code",
   "execution_count": 12,
   "metadata": {},
   "outputs": [],
   "source": [
    "import pdftotext\n",
    "import re\n",
    "from xlwt import Workbook\n",
    "wb = Workbook()\n",
    "sheet1 = wb.add_sheet('Sheet 1') "
   ]
  },
  {
   "cell_type": "markdown",
   "metadata": {},
   "source": [
    "<font color=blue>*#Declaring the Variables* </font>"
   ]
  },
  {
   "cell_type": "code",
   "execution_count": 13,
   "metadata": {},
   "outputs": [],
   "source": [
    "text = \"\"\n",
    "wordlist = []\n",
    "global_wordlist = []\n",
    "i=0\n",
    "k=1\n",
    "j=0\n",
    "count=0\n",
    "punctuations = '''‘’!()-[]{};:'\"\\,<>./?@#$%^&*_~\\n'''"
   ]
  },
  {
   "cell_type": "markdown",
   "metadata": {},
   "source": [
    "<font color=blue>*#Accessing the File to process* </font>"
   ]
  },
  {
   "cell_type": "code",
   "execution_count": 14,
   "metadata": {},
   "outputs": [],
   "source": [
    "with open(\"/home/stableaf_/Desktop/Marathi.pdf\", \"rb\") as f:\n",
    "    pdf = pdftotext.PDF(f)"
   ]
  },
  {
   "cell_type": "code",
   "execution_count": 15,
   "metadata": {},
   "outputs": [],
   "source": [
    "for page in pdf:\n",
    "    text = page\n",
    "    text1= \"\"\n",
    "    wordfreq = []\n",
    "    p=0"
   ]
  },
  {
   "cell_type": "markdown",
   "metadata": {},
   "source": [
    "<font color=blue>*#visualiztion of page* </font>"
   ]
  },
  {
   "cell_type": "code",
   "execution_count": 16,
   "metadata": {},
   "outputs": [
    {
     "name": "stdout",
     "output_type": "stream",
     "text": [
      "त्यागराजांनी त्यांना विचारले, ते रक्षक कसे दिसत होते ? चोर म्हणाले, दोघांच्या खांद्यावर धनुष्य-बाण होते. डोक्यावर\n",
      "मुकुट होता आणि दोघेही तरुण होते. त्या वेळी त्यागराजांच्या डोक्यात प्रकाश पडला की, चोरांना दिसलेले रक्षक म्हणजे\n",
      "श्रीराम आणि लक्ष्मणच होते. त्यागराज चोरांना म्हणाले, तुम्ही भाग्यवान आहात. मी रामभक्त असून मला रामाचे दर्शन\n",
      "अजून झाले नाही. तुम्ही चोर असून आणि रामाचे भक्त नसूनही तुम्हाला रामाचे दर्शन झाले. मी चोर झालो असतो, तर\n",
      "बरे झाले असते\n",
      "\n"
     ]
    }
   ],
   "source": [
    "    print(text)"
   ]
  },
  {
   "cell_type": "markdown",
   "metadata": {},
   "source": [
    "<font color=blue>*#Processing the Text* </font>"
   ]
  },
  {
   "cell_type": "code",
   "execution_count": 18,
   "metadata": {},
   "outputs": [
    {
     "name": "stdout",
     "output_type": "stream",
     "text": [
      "['त्यागराजांनी', 'त्यांना', 'विचारले', 'ते', 'रक्षक', 'कसे', 'दिसत', 'होते', '', 'चोर', 'म्हणाले', 'दोघांच्या', 'खांद्यावर', 'धनुष्यबाण', 'होते', 'डोक्यावरमुकुट', 'होता', 'आणि', 'दोघेही', 'तरुण', 'होते', 'त्या', 'वेळी', 'त्यागराजांच्या', 'डोक्यात', 'प्रकाश', 'पडला', 'की', 'चोरांना', 'दिसलेले', 'रक्षक', 'म्हणजेश्रीराम', 'आणि', 'लक्ष्मणच', 'होते', 'त्यागराज', 'चोरांना', 'म्हणाले', 'तुम्ही', 'भाग्यवान', 'आहात', 'मी', 'रामभक्त', 'असून', 'मला', 'रामाचे', 'दर्शनअजून', 'झाले', 'नाही', 'तुम्ही', 'चोर', 'असून', 'आणि', 'रामाचे', 'भक्त', 'नसूनही', 'तुम्हाला', 'रामाचे', 'दर्शन', 'झाले', 'मी', 'चोर', 'झालो', 'असतो', 'तरबरे', 'झाले', 'असतेत्यागराजांनी', 'त्यांना', 'विचारले', 'ते', 'रक्षक', 'कसे', 'दिसत', 'होते', '', 'चोर', 'म्हणाले', 'दोघांच्या', 'खांद्यावर', 'धनुष्यबाण', 'होते', 'डोक्यावरमुकुट', 'होता', 'आणि', 'दोघेही', 'तरुण', 'होते', 'त्या', 'वेळी', 'त्यागराजांच्या', 'डोक्यात', 'प्रकाश', 'पडला', 'की', 'चोरांना', 'दिसलेले', 'रक्षक', 'म्हणजेश्रीराम', 'आणि', 'लक्ष्मणच', 'होते', 'त्यागराज', 'चोरांना', 'म्हणाले', 'तुम्ही', 'भाग्यवान', 'आहात', 'मी', 'रामभक्त', 'असून', 'मला', 'रामाचे', 'दर्शनअजून', 'झाले', 'नाही', 'तुम्ही', 'चोर', 'असून', 'आणि', 'रामाचे', 'भक्त', 'नसूनही', 'तुम्हाला', 'रामाचे', 'दर्शन', 'झाले', 'मी', 'चोर', 'झालो', 'असतो', 'तरबरे', 'झाले', 'असते']\n",
      "\n",
      " ['त्यागराजांनी', 'त्यांना', 'विचारले', 'ते', 'रक्षक', 'कसे', 'दिसत', 'होते', '', 'चोर', 'म्हणाले', 'दोघांच्या', 'खांद्यावर', 'धनुष्यबाण', 'होते', 'डोक्यावरमुकुट', 'होता', 'आणि', 'दोघेही', 'तरुण', 'होते', 'त्या', 'वेळी', 'त्यागराजांच्या', 'डोक्यात', 'प्रकाश', 'पडला', 'की', 'चोरांना', 'दिसलेले', 'रक्षक', 'म्हणजेश्रीराम', 'आणि', 'लक्ष्मणच', 'होते', 'त्यागराज', 'चोरांना', 'म्हणाले', 'तुम्ही', 'भाग्यवान', 'आहात', 'मी', 'रामभक्त', 'असून', 'मला', 'रामाचे', 'दर्शनअजून', 'झाले', 'नाही', 'तुम्ही', 'चोर', 'असून', 'आणि', 'रामाचे', 'भक्त', 'नसूनही', 'तुम्हाला', 'रामाचे', 'दर्शन', 'झाले', 'मी', 'चोर', 'झालो', 'असतो', 'तरबरे', 'झाले', 'असते', 'त्यागराजांनी', 'त्यांना', 'विचारले', 'ते', 'रक्षक', 'कसे', 'दिसत', 'होते', '', 'चोर', 'म्हणाले', 'दोघांच्या', 'खांद्यावर', 'धनुष्यबाण', 'होते', 'डोक्यावरमुकुट', 'होता', 'आणि', 'दोघेही', 'तरुण', 'होते', 'त्या', 'वेळी', 'त्यागराजांच्या', 'डोक्यात', 'प्रकाश', 'पडला', 'की', 'चोरांना', 'दिसलेले', 'रक्षक', 'म्हणजेश्रीराम', 'आणि', 'लक्ष्मणच', 'होते', 'त्यागराज', 'चोरांना', 'म्हणाले', 'तुम्ही', 'भाग्यवान', 'आहात', 'मी', 'रामभक्त', 'असून', 'मला', 'रामाचे', 'दर्शनअजून', 'झाले', 'नाही', 'तुम्ही', 'चोर', 'असून', 'आणि', 'रामाचे', 'भक्त', 'नसूनही', 'तुम्हाला', 'रामाचे', 'दर्शन', 'झाले', 'मी', 'चोर', 'झालो', 'असतो', 'तरबरे', 'झाले', 'असतेत्यागराजांनी', 'त्यांना', 'विचारले', 'ते', 'रक्षक', 'कसे', 'दिसत', 'होते', '', 'चोर', 'म्हणाले', 'दोघांच्या', 'खांद्यावर', 'धनुष्यबाण', 'होते', 'डोक्यावरमुकुट', 'होता', 'आणि', 'दोघेही', 'तरुण', 'होते', 'त्या', 'वेळी', 'त्यागराजांच्या', 'डोक्यात', 'प्रकाश', 'पडला', 'की', 'चोरांना', 'दिसलेले', 'रक्षक', 'म्हणजेश्रीराम', 'आणि', 'लक्ष्मणच', 'होते', 'त्यागराज', 'चोरांना', 'म्हणाले', 'तुम्ही', 'भाग्यवान', 'आहात', 'मी', 'रामभक्त', 'असून', 'मला', 'रामाचे', 'दर्शनअजून', 'झाले', 'नाही', 'तुम्ही', 'चोर', 'असून', 'आणि', 'रामाचे', 'भक्त', 'नसूनही', 'तुम्हाला', 'रामाचे', 'दर्शन', 'झाले', 'मी', 'चोर', 'झालो', 'असतो', 'तरबरे', 'झाले', 'असते']\n"
     ]
    }
   ],
   "source": [
    "    for char in text:\n",
    "        if char not in punctuations:\n",
    "            text1 = text1 + char\n",
    "            \n",
    "    sentences = re.split(' ',text1)\n",
    "    wordlist = list(sentences)\n",
    "    print(wordlist)\n",
    "    global_wordlist.extend(wordlist)\n",
    "    print(\"\\n\",global_wordlist)"
   ]
  },
  {
   "cell_type": "markdown",
   "metadata": {},
   "source": [
    "<font color=blue>*#counting the Frequency of each word* </font>"
   ]
  },
  {
   "cell_type": "code",
   "execution_count": 25,
   "metadata": {},
   "outputs": [],
   "source": [
    "for w in global_wordlist:\n",
    "    wordfreq.append(global_wordlist.count(w))\n",
    "temp = int(len(wordfreq)) "
   ]
  },
  {
   "cell_type": "markdown",
   "metadata": {},
   "source": [
    "<font color=blue>*#Writing information to workbook* </font>"
   ]
  },
  {
   "cell_type": "code",
   "execution_count": null,
   "metadata": {},
   "outputs": [],
   "source": [
    "for _ in range(temp):\n",
    "    if p <= temp+1:\n",
    "        sheet1.write(i, j, global_wordlist[p])\n",
    "        sheet1.write(i, k, wordfreq[p])\n",
    "        i+=1\n",
    "        p+=1\n",
    "\n",
    "    else:\n",
    "        break"
   ]
  },
  {
   "cell_type": "markdown",
   "metadata": {},
   "source": [
    "<font color=blue>*#Closing workbook* </font>"
   ]
  },
  {
   "cell_type": "code",
   "execution_count": null,
   "metadata": {},
   "outputs": [],
   "source": [
    "wb.save('xlwt example.xls') "
   ]
  }
 ],
 "metadata": {
  "kernelspec": {
   "display_name": "Python 3",
   "language": "python",
   "name": "python3"
  },
  "language_info": {
   "codemirror_mode": {
    "name": "ipython",
    "version": 3
   },
   "file_extension": ".py",
   "mimetype": "text/x-python",
   "name": "python",
   "nbconvert_exporter": "python",
   "pygments_lexer": "ipython3",
   "version": "3.7.3"
  }
 },
 "nbformat": 4,
 "nbformat_minor": 2
}
